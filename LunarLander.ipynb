{
  "nbformat": 4,
  "nbformat_minor": 0,
  "metadata": {
    "colab": {
      "name": "LunarLander (Attempt 4).ipynb",
      "provenance": [],
      "toc_visible": true
    },
    "kernelspec": {
      "name": "python3",
      "display_name": "Python 3"
    }
  },
  "cells": [
    {
      "cell_type": "markdown",
      "metadata": {
        "id": "qEcY5qhcBz8F"
      },
      "source": [
        "# Stuff to Render The Environment"
      ]
    },
    {
      "cell_type": "code",
      "metadata": {
        "id": "QniqRKkzCB3s"
      },
      "source": [
        "!pip install gym pyvirtualdisplay > /dev/null 2>&1\r\n",
        "!apt-get install -y xvfb python-opengl ffmpeg > /dev/null 2>&1"
      ],
      "execution_count": 1,
      "outputs": []
    },
    {
      "cell_type": "code",
      "metadata": {
        "colab": {
          "base_uri": "https://localhost:8080/",
          "height": 0
        },
        "id": "rOiEtH0UCGkj",
        "outputId": "db7e4b60-b02b-4393-b529-237fe0bc5d7a"
      },
      "source": [
        "!apt-get update > /dev/null 2>&1\r\n",
        "!apt-get install cmake > /dev/null 2>&1\r\n",
        "!pip install --upgrade setuptools 2>&1\r\n",
        "!pip install ez_setup > /dev/null 2>&1\r\n",
        "!pip install gym[atari] > /dev/null 2>&1"
      ],
      "execution_count": 2,
      "outputs": [
        {
          "output_type": "stream",
          "text": [
            "Collecting setuptools\n",
            "\u001b[?25l  Downloading https://files.pythonhosted.org/packages/f7/30/f963996d7efea5a336455a3c727711469280c318e2711e295007dea04d7e/setuptools-52.0.0-py3-none-any.whl (784kB)\n",
            "\r\u001b[K     |▍                               | 10kB 16.7MB/s eta 0:00:01\r\u001b[K     |▉                               | 20kB 14.0MB/s eta 0:00:01\r\u001b[K     |█▎                              | 30kB 16.1MB/s eta 0:00:01\r\u001b[K     |█▊                              | 40kB 12.4MB/s eta 0:00:01\r\u001b[K     |██                              | 51kB 14.0MB/s eta 0:00:01\r\u001b[K     |██▌                             | 61kB 15.3MB/s eta 0:00:01\r\u001b[K     |███                             | 71kB 13.0MB/s eta 0:00:01\r\u001b[K     |███▍                            | 81kB 14.0MB/s eta 0:00:01\r\u001b[K     |███▊                            | 92kB 11.5MB/s eta 0:00:01\r\u001b[K     |████▏                           | 102kB 11.8MB/s eta 0:00:01\r\u001b[K     |████▋                           | 112kB 11.8MB/s eta 0:00:01\r\u001b[K     |█████                           | 122kB 11.8MB/s eta 0:00:01\r\u001b[K     |█████▍                          | 133kB 11.8MB/s eta 0:00:01\r\u001b[K     |█████▉                          | 143kB 11.8MB/s eta 0:00:01\r\u001b[K     |██████▎                         | 153kB 11.8MB/s eta 0:00:01\r\u001b[K     |██████▊                         | 163kB 11.8MB/s eta 0:00:01\r\u001b[K     |███████                         | 174kB 11.8MB/s eta 0:00:01\r\u001b[K     |███████▌                        | 184kB 11.8MB/s eta 0:00:01\r\u001b[K     |████████                        | 194kB 11.8MB/s eta 0:00:01\r\u001b[K     |████████▍                       | 204kB 11.8MB/s eta 0:00:01\r\u001b[K     |████████▊                       | 215kB 11.8MB/s eta 0:00:01\r\u001b[K     |█████████▏                      | 225kB 11.8MB/s eta 0:00:01\r\u001b[K     |█████████▋                      | 235kB 11.8MB/s eta 0:00:01\r\u001b[K     |██████████                      | 245kB 11.8MB/s eta 0:00:01\r\u001b[K     |██████████▍                     | 256kB 11.8MB/s eta 0:00:01\r\u001b[K     |██████████▉                     | 266kB 11.8MB/s eta 0:00:01\r\u001b[K     |███████████▎                    | 276kB 11.8MB/s eta 0:00:01\r\u001b[K     |███████████▊                    | 286kB 11.8MB/s eta 0:00:01\r\u001b[K     |████████████▏                   | 296kB 11.8MB/s eta 0:00:01\r\u001b[K     |████████████▌                   | 307kB 11.8MB/s eta 0:00:01\r\u001b[K     |█████████████                   | 317kB 11.8MB/s eta 0:00:01\r\u001b[K     |█████████████▍                  | 327kB 11.8MB/s eta 0:00:01\r\u001b[K     |█████████████▉                  | 337kB 11.8MB/s eta 0:00:01\r\u001b[K     |██████████████▏                 | 348kB 11.8MB/s eta 0:00:01\r\u001b[K     |██████████████▋                 | 358kB 11.8MB/s eta 0:00:01\r\u001b[K     |███████████████                 | 368kB 11.8MB/s eta 0:00:01\r\u001b[K     |███████████████▌                | 378kB 11.8MB/s eta 0:00:01\r\u001b[K     |███████████████▉                | 389kB 11.8MB/s eta 0:00:01\r\u001b[K     |████████████████▎               | 399kB 11.8MB/s eta 0:00:01\r\u001b[K     |████████████████▊               | 409kB 11.8MB/s eta 0:00:01\r\u001b[K     |█████████████████▏              | 419kB 11.8MB/s eta 0:00:01\r\u001b[K     |█████████████████▌              | 430kB 11.8MB/s eta 0:00:01\r\u001b[K     |██████████████████              | 440kB 11.8MB/s eta 0:00:01\r\u001b[K     |██████████████████▍             | 450kB 11.8MB/s eta 0:00:01\r\u001b[K     |██████████████████▉             | 460kB 11.8MB/s eta 0:00:01\r\u001b[K     |███████████████████▏            | 471kB 11.8MB/s eta 0:00:01\r\u001b[K     |███████████████████▋            | 481kB 11.8MB/s eta 0:00:01\r\u001b[K     |████████████████████            | 491kB 11.8MB/s eta 0:00:01\r\u001b[K     |████████████████████▌           | 501kB 11.8MB/s eta 0:00:01\r\u001b[K     |████████████████████▉           | 512kB 11.8MB/s eta 0:00:01\r\u001b[K     |█████████████████████▎          | 522kB 11.8MB/s eta 0:00:01\r\u001b[K     |█████████████████████▊          | 532kB 11.8MB/s eta 0:00:01\r\u001b[K     |██████████████████████▏         | 542kB 11.8MB/s eta 0:00:01\r\u001b[K     |██████████████████████▌         | 552kB 11.8MB/s eta 0:00:01\r\u001b[K     |███████████████████████         | 563kB 11.8MB/s eta 0:00:01\r\u001b[K     |███████████████████████▍        | 573kB 11.8MB/s eta 0:00:01\r\u001b[K     |███████████████████████▉        | 583kB 11.8MB/s eta 0:00:01\r\u001b[K     |████████████████████████▎       | 593kB 11.8MB/s eta 0:00:01\r\u001b[K     |████████████████████████▋       | 604kB 11.8MB/s eta 0:00:01\r\u001b[K     |█████████████████████████       | 614kB 11.8MB/s eta 0:00:01\r\u001b[K     |█████████████████████████▌      | 624kB 11.8MB/s eta 0:00:01\r\u001b[K     |██████████████████████████      | 634kB 11.8MB/s eta 0:00:01\r\u001b[K     |██████████████████████████▎     | 645kB 11.8MB/s eta 0:00:01\r\u001b[K     |██████████████████████████▊     | 655kB 11.8MB/s eta 0:00:01\r\u001b[K     |███████████████████████████▏    | 665kB 11.8MB/s eta 0:00:01\r\u001b[K     |███████████████████████████▋    | 675kB 11.8MB/s eta 0:00:01\r\u001b[K     |████████████████████████████    | 686kB 11.8MB/s eta 0:00:01\r\u001b[K     |████████████████████████████▍   | 696kB 11.8MB/s eta 0:00:01\r\u001b[K     |████████████████████████████▉   | 706kB 11.8MB/s eta 0:00:01\r\u001b[K     |█████████████████████████████▎  | 716kB 11.8MB/s eta 0:00:01\r\u001b[K     |█████████████████████████████▋  | 727kB 11.8MB/s eta 0:00:01\r\u001b[K     |██████████████████████████████  | 737kB 11.8MB/s eta 0:00:01\r\u001b[K     |██████████████████████████████▌ | 747kB 11.8MB/s eta 0:00:01\r\u001b[K     |███████████████████████████████ | 757kB 11.8MB/s eta 0:00:01\r\u001b[K     |███████████████████████████████▎| 768kB 11.8MB/s eta 0:00:01\r\u001b[K     |███████████████████████████████▊| 778kB 11.8MB/s eta 0:00:01\r\u001b[K     |████████████████████████████████| 788kB 11.8MB/s \n",
            "\u001b[31mERROR: datascience 0.10.6 has requirement folium==0.2.1, but you'll have folium 0.8.3 which is incompatible.\u001b[0m\n",
            "\u001b[?25hInstalling collected packages: setuptools\n",
            "  Found existing installation: setuptools 51.3.3\n",
            "    Uninstalling setuptools-51.3.3:\n",
            "      Successfully uninstalled setuptools-51.3.3\n",
            "Successfully installed setuptools-52.0.0\n"
          ],
          "name": "stdout"
        },
        {
          "output_type": "display_data",
          "data": {
            "application/vnd.colab-display-data+json": {
              "pip_warning": {
                "packages": [
                  "pkg_resources"
                ]
              }
            }
          },
          "metadata": {
            "tags": []
          }
        }
      ]
    },
    {
      "cell_type": "code",
      "metadata": {
        "id": "T5JQOPOBCINp"
      },
      "source": [
        "import gym\r\n",
        "from gym import logger as gymlogger\r\n",
        "from gym.wrappers import Monitor\r\n",
        "gymlogger.set_level(40) #error only\r\n",
        "import tensorflow as tf\r\n",
        "import numpy as np\r\n",
        "import random\r\n",
        "import matplotlib\r\n",
        "import matplotlib.pyplot as plt\r\n",
        "%matplotlib inline\r\n",
        "import math\r\n",
        "import glob\r\n",
        "import io\r\n",
        "import base64\r\n",
        "from IPython.display import HTML\r\n",
        "\r\n",
        "from IPython import display as ipythondisplay"
      ],
      "execution_count": 3,
      "outputs": []
    },
    {
      "cell_type": "code",
      "metadata": {
        "colab": {
          "base_uri": "https://localhost:8080/"
        },
        "id": "YLo4SLViCKiJ",
        "outputId": "dc6ccf3b-9971-4f65-9eaf-3b5b97806b8a"
      },
      "source": [
        "from pyvirtualdisplay import Display\r\n",
        "display = Display(visible=0, size=(1400, 900))\r\n",
        "display.start()"
      ],
      "execution_count": 4,
      "outputs": [
        {
          "output_type": "execute_result",
          "data": {
            "text/plain": [
              "<pyvirtualdisplay.display.Display at 0x7fa271859240>"
            ]
          },
          "metadata": {
            "tags": []
          },
          "execution_count": 4
        }
      ]
    },
    {
      "cell_type": "code",
      "metadata": {
        "id": "LMHdG3McCTda"
      },
      "source": [
        "def show_video():\r\n",
        "  mp4list = glob.glob('video/*.mp4')\r\n",
        "  if len(mp4list) > 0:\r\n",
        "    mp4 = mp4list[0]\r\n",
        "    video = io.open(mp4, 'r+b').read()\r\n",
        "    encoded = base64.b64encode(video)\r\n",
        "    ipythondisplay.display(HTML(data='''<video alt=\"test\" autoplay \r\n",
        "                loop controls style=\"height: 400px;\">\r\n",
        "                <source src=\"data:video/mp4;base64,{0}\" type=\"video/mp4\" />\r\n",
        "             </video>'''.format(encoded.decode('ascii'))))\r\n",
        "  else: \r\n",
        "    print(\"Could not find video\")\r\n",
        "    \r\n",
        "\r\n",
        "def wrap_env(env):\r\n",
        "  env = Monitor(env, './video', force=True)\r\n",
        "  return env"
      ],
      "execution_count": 5,
      "outputs": []
    },
    {
      "cell_type": "code",
      "metadata": {
        "id": "fUFoVllTCV-8"
      },
      "source": [
        "env = wrap_env(gym.make(\"LunarLander-v2\"))"
      ],
      "execution_count": 10,
      "outputs": []
    },
    {
      "cell_type": "code",
      "metadata": {
        "colab": {
          "base_uri": "https://localhost:8080/"
        },
        "id": "ooVKa8KBCXAE",
        "outputId": "d8e75947-3a34-4356-fd56-ef591df788a5"
      },
      "source": [
        "print(env.action_space)"
      ],
      "execution_count": 11,
      "outputs": [
        {
          "output_type": "stream",
          "text": [
            "Discrete(4)\n"
          ],
          "name": "stdout"
        }
      ]
    },
    {
      "cell_type": "markdown",
      "metadata": {
        "id": "4HScmczsms6J"
      },
      "source": [
        "# Import/Setup"
      ]
    },
    {
      "cell_type": "markdown",
      "metadata": {
        "id": "NcGzJf-AmsF6"
      },
      "source": [
        "This part of the code is for importing all the necessary packages + setting it up. "
      ]
    },
    {
      "cell_type": "markdown",
      "metadata": {
        "id": "zK2ffJygnJwt"
      },
      "source": [
        "Packages"
      ]
    },
    {
      "cell_type": "code",
      "metadata": {
        "id": "5kZAb6_RmVPR"
      },
      "source": [
        "import math\r\n",
        "import random\r\n",
        "import numpy as np\r\n",
        "import matplotlib\r\n",
        "import matplotlib.pyplot as plt\r\n",
        "from collections import namedtuple\r\n",
        "from itertools import count\r\n",
        "from PIL import Image\r\n",
        "\r\n",
        "import torch\r\n",
        "import torch.nn as nn\r\n",
        "import torch.optim as optim\r\n",
        "import torch.nn.functional as F\r\n",
        "import torchvision.transforms as T\r\n",
        "\r\n",
        "from tqdm import tqdm"
      ],
      "execution_count": 6,
      "outputs": []
    },
    {
      "cell_type": "markdown",
      "metadata": {
        "id": "B4GnUocBnJZ7"
      },
      "source": [
        "Settting up the Lunar Lander Gym environment"
      ]
    },
    {
      "cell_type": "code",
      "metadata": {
        "colab": {
          "base_uri": "https://localhost:8080/"
        },
        "id": "rl7u7haImaIE",
        "outputId": "e02d3851-2abc-49d6-a797-4740514d29a9"
      },
      "source": [
        "!pip install box2d-py\r\n",
        "!pip install gym[Box_2D]\r\n",
        "import gym\r\n",
        "env = wrap_env(gym.make(\"LunarLander-v2\"))"
      ],
      "execution_count": 7,
      "outputs": [
        {
          "output_type": "stream",
          "text": [
            "Collecting box2d-py\n",
            "\u001b[?25l  Downloading https://files.pythonhosted.org/packages/06/bd/6cdc3fd994b0649dcf5d9bad85bd9e26172308bbe9a421bfc6fdbf5081a6/box2d_py-2.3.8-cp36-cp36m-manylinux1_x86_64.whl (448kB)\n",
            "\r\u001b[K     |▊                               | 10kB 17.1MB/s eta 0:00:01\r\u001b[K     |█▌                              | 20kB 13.6MB/s eta 0:00:01\r\u001b[K     |██▏                             | 30kB 16.2MB/s eta 0:00:01\r\u001b[K     |███                             | 40kB 12.9MB/s eta 0:00:01\r\u001b[K     |███▋                            | 51kB 14.5MB/s eta 0:00:01\r\u001b[K     |████▍                           | 61kB 13.4MB/s eta 0:00:01\r\u001b[K     |█████▏                          | 71kB 13.0MB/s eta 0:00:01\r\u001b[K     |█████▉                          | 81kB 14.3MB/s eta 0:00:01\r\u001b[K     |██████▋                         | 92kB 11.8MB/s eta 0:00:01\r\u001b[K     |███████▎                        | 102kB 11.9MB/s eta 0:00:01\r\u001b[K     |████████                        | 112kB 11.9MB/s eta 0:00:01\r\u001b[K     |████████▊                       | 122kB 11.9MB/s eta 0:00:01\r\u001b[K     |█████████▌                      | 133kB 11.9MB/s eta 0:00:01\r\u001b[K     |██████████▎                     | 143kB 11.9MB/s eta 0:00:01\r\u001b[K     |███████████                     | 153kB 11.9MB/s eta 0:00:01\r\u001b[K     |███████████▊                    | 163kB 11.9MB/s eta 0:00:01\r\u001b[K     |████████████▍                   | 174kB 11.9MB/s eta 0:00:01\r\u001b[K     |█████████████▏                  | 184kB 11.9MB/s eta 0:00:01\r\u001b[K     |█████████████▉                  | 194kB 11.9MB/s eta 0:00:01\r\u001b[K     |██████████████▋                 | 204kB 11.9MB/s eta 0:00:01\r\u001b[K     |███████████████▍                | 215kB 11.9MB/s eta 0:00:01\r\u001b[K     |████████████████                | 225kB 11.9MB/s eta 0:00:01\r\u001b[K     |████████████████▉               | 235kB 11.9MB/s eta 0:00:01\r\u001b[K     |█████████████████▌              | 245kB 11.9MB/s eta 0:00:01\r\u001b[K     |██████████████████▎             | 256kB 11.9MB/s eta 0:00:01\r\u001b[K     |███████████████████             | 266kB 11.9MB/s eta 0:00:01\r\u001b[K     |███████████████████▊            | 276kB 11.9MB/s eta 0:00:01\r\u001b[K     |████████████████████▌           | 286kB 11.9MB/s eta 0:00:01\r\u001b[K     |█████████████████████▏          | 296kB 11.9MB/s eta 0:00:01\r\u001b[K     |██████████████████████          | 307kB 11.9MB/s eta 0:00:01\r\u001b[K     |██████████████████████▋         | 317kB 11.9MB/s eta 0:00:01\r\u001b[K     |███████████████████████▍        | 327kB 11.9MB/s eta 0:00:01\r\u001b[K     |████████████████████████        | 337kB 11.9MB/s eta 0:00:01\r\u001b[K     |████████████████████████▉       | 348kB 11.9MB/s eta 0:00:01\r\u001b[K     |█████████████████████████▋      | 358kB 11.9MB/s eta 0:00:01\r\u001b[K     |██████████████████████████▎     | 368kB 11.9MB/s eta 0:00:01\r\u001b[K     |███████████████████████████     | 378kB 11.9MB/s eta 0:00:01\r\u001b[K     |███████████████████████████▊    | 389kB 11.9MB/s eta 0:00:01\r\u001b[K     |████████████████████████████▌   | 399kB 11.9MB/s eta 0:00:01\r\u001b[K     |█████████████████████████████▏  | 409kB 11.9MB/s eta 0:00:01\r\u001b[K     |██████████████████████████████  | 419kB 11.9MB/s eta 0:00:01\r\u001b[K     |██████████████████████████████▊ | 430kB 11.9MB/s eta 0:00:01\r\u001b[K     |███████████████████████████████▍| 440kB 11.9MB/s eta 0:00:01\r\u001b[K     |████████████████████████████████| 450kB 11.9MB/s \n",
            "\u001b[?25hInstalling collected packages: box2d-py\n",
            "Successfully installed box2d-py-2.3.8\n",
            "Requirement already satisfied: gym[Box_2D] in /usr/local/lib/python3.6/dist-packages (0.17.3)\n",
            "\u001b[33m  WARNING: gym 0.17.3 does not provide the extra 'box_2d'\u001b[0m\n",
            "Requirement already satisfied: scipy in /usr/local/lib/python3.6/dist-packages (from gym[Box_2D]) (1.4.1)\n",
            "Requirement already satisfied: pyglet<=1.5.0,>=1.4.0 in /usr/local/lib/python3.6/dist-packages (from gym[Box_2D]) (1.5.0)\n",
            "Requirement already satisfied: cloudpickle<1.7.0,>=1.2.0 in /usr/local/lib/python3.6/dist-packages (from gym[Box_2D]) (1.3.0)\n",
            "Requirement already satisfied: numpy>=1.10.4 in /usr/local/lib/python3.6/dist-packages (from gym[Box_2D]) (1.19.5)\n",
            "Requirement already satisfied: future in /usr/local/lib/python3.6/dist-packages (from pyglet<=1.5.0,>=1.4.0->gym[Box_2D]) (0.16.0)\n"
          ],
          "name": "stdout"
        }
      ]
    },
    {
      "cell_type": "markdown",
      "metadata": {
        "id": "6zX8FGSFm-Uf"
      },
      "source": [
        "Setting up MatPlotLib"
      ]
    },
    {
      "cell_type": "code",
      "metadata": {
        "id": "y2GAuzbdmbgi"
      },
      "source": [
        "is_ipython = 'inline' in matplotlib.get_backend()\r\n",
        "if is_ipython:\r\n",
        "    from IPython import display\r\n",
        "\r\n",
        "plt.ion()"
      ],
      "execution_count": 8,
      "outputs": []
    },
    {
      "cell_type": "markdown",
      "metadata": {
        "id": "4T5vKXIrnCwk"
      },
      "source": [
        "For the GPU"
      ]
    },
    {
      "cell_type": "markdown",
      "metadata": {
        "id": "4klACVMgB_qD"
      },
      "source": [
        ""
      ]
    },
    {
      "cell_type": "code",
      "metadata": {
        "id": "xehDdYbVmp5s"
      },
      "source": [
        "device = torch.device(\"cuda\" if torch.cuda.is_available() else \"cpu\")"
      ],
      "execution_count": 9,
      "outputs": []
    },
    {
      "cell_type": "markdown",
      "metadata": {
        "id": "AdTPSomqnRpJ"
      },
      "source": [
        "# Replay Memory"
      ]
    },
    {
      "cell_type": "markdown",
      "metadata": {
        "id": "usMYplNdnuzo"
      },
      "source": [
        "This memory replay is for reusing the data and essentially giving the model a memory to what happened in the past. "
      ]
    },
    {
      "cell_type": "code",
      "metadata": {
        "id": "JVqZmdeGnVPP"
      },
      "source": [
        " Transition = namedtuple('Transition',\r\n",
        "                        ('state', 'action', 'next_state', 'reward'))\r\n",
        "\r\n",
        "\r\n",
        "class ReplayMemory(object):\r\n",
        "\r\n",
        "    def __init__(self, capacity):\r\n",
        "        self.capacity = capacity\r\n",
        "        self.memory = []\r\n",
        "        self.position = 0\r\n",
        "\r\n",
        "    def push(self, *args):\r\n",
        "        \"\"\"Saves a transition.\"\"\"\r\n",
        "        if len(self.memory) < self.capacity:\r\n",
        "            self.memory.append(None)\r\n",
        "        self.memory[self.position] = Transition(*args)\r\n",
        "        self.position = (self.position + 1) % self.capacity\r\n",
        "\r\n",
        "    def sample(self, batch_size):\r\n",
        "        return random.sample(self.memory, batch_size)\r\n",
        "\r\n",
        "    def __len__(self):\r\n",
        "        return len(self.memory)"
      ],
      "execution_count": 12,
      "outputs": []
    },
    {
      "cell_type": "markdown",
      "metadata": {
        "id": "ZmcGL4W4n7nm"
      },
      "source": [
        "# Deep Q-Network"
      ]
    },
    {
      "cell_type": "code",
      "metadata": {
        "id": "hFq0vQgUoCim"
      },
      "source": [
        "class DQN(nn.Module):\r\n",
        "\r\n",
        "    def __init__(self, inputs, outputs):\r\n",
        "        super(DQN, self).__init__()\r\n",
        "        self.dense1 = nn.Linear(inputs, 16)\r\n",
        "        self.dense2 = nn.Linear(16, 32)\r\n",
        "        self.dense3 = nn.Linear(32, outputs)\r\n",
        "\r\n",
        "    def forward(self, x):\r\n",
        "        x = F.relu((self.dense1(x)))\r\n",
        "        x = F.relu((self.dense2(x)))\r\n",
        "        x = F.relu((self.dense3(x)))\r\n",
        "        return x"
      ],
      "execution_count": 13,
      "outputs": []
    },
    {
      "cell_type": "markdown",
      "metadata": {
        "id": "PbA2b-qGoHpd"
      },
      "source": [
        "# Getting The State"
      ]
    },
    {
      "cell_type": "code",
      "metadata": {
        "id": "fxW072JMunro"
      },
      "source": [
        "state = env.reset()"
      ],
      "execution_count": 14,
      "outputs": []
    },
    {
      "cell_type": "code",
      "metadata": {
        "colab": {
          "base_uri": "https://localhost:8080/"
        },
        "id": "1JA3ZAsMu_zw",
        "outputId": "455a86f6-5ec7-4fc0-a2b7-d33d0d45ab4b"
      },
      "source": [
        "state"
      ],
      "execution_count": 15,
      "outputs": [
        {
          "output_type": "execute_result",
          "data": {
            "text/plain": [
              "array([-1.3734817e-03,  1.3984876e+00, -1.3914530e-01, -5.5255502e-01,\n",
              "        1.5984217e-03,  3.1518478e-02,  0.0000000e+00,  0.0000000e+00],\n",
              "      dtype=float32)"
            ]
          },
          "metadata": {
            "tags": []
          },
          "execution_count": 15
        }
      ]
    },
    {
      "cell_type": "markdown",
      "metadata": {
        "id": "DTtOGp1CrtOS"
      },
      "source": [
        "# Training"
      ]
    },
    {
      "cell_type": "code",
      "metadata": {
        "id": "p2YHAFZHr-Zq"
      },
      "source": [
        "BATCH_SIZE = 128\r\n",
        "gamma = 0.9\r\n",
        "epsilon = 0.9\r\n",
        "epsilon_decay = 0.9999\r\n",
        "TARGET_UPDATE = 10\r\n",
        "action_space = 4\r\n",
        "observation_space = 8"
      ],
      "execution_count": 16,
      "outputs": []
    },
    {
      "cell_type": "code",
      "metadata": {
        "id": "_KGjWF3DsWt9"
      },
      "source": [
        "target_net = DQN(observation_space, action_space).to(device)\r\n",
        "\r\n",
        "criterion = nn.MSELoss()\r\n",
        "\r\n",
        "optimizer = optim.RMSprop(target_net.parameters())"
      ],
      "execution_count": 17,
      "outputs": []
    },
    {
      "cell_type": "code",
      "metadata": {
        "id": "Sm8hmUIvsaGi",
        "colab": {
          "base_uri": "https://localhost:8080/"
        },
        "outputId": "b2e4030f-27e4-49e8-88ce-ece93298a515"
      },
      "source": [
        "epochs = 25000\r\n",
        "\r\n",
        "for i in tqdm(range(epochs)):\r\n",
        "    state = env.reset()\r\n",
        "    done = False\r\n",
        "    states = []\r\n",
        "    rewards = []\r\n",
        "    while not done:\r\n",
        "      prediction = target_net(torch.tensor(state))\r\n",
        "      prediction = prediction.cpu().detach().numpy()\r\n",
        "      action = np.argmax(prediction)\r\n",
        "      if np.random.random() < epsilon:\r\n",
        "        action = env.action_space.sample()\r\n",
        "      observation,reward,done,_ = env.step(action)\r\n",
        "      q = target_net(torch.tensor(observation)).cpu().detach().numpy()\r\n",
        "      future_reward = reward + q[np.argmax(action)]*gamma\r\n",
        "      states.append(state)\r\n",
        "      q_values = q\r\n",
        "      q_values[np.argmax(action)] = future_reward\r\n",
        "      rewards.append(q_values)\r\n",
        "      x = torch.tensor(np.asarray(state))\r\n",
        "      y = torch.tensor(np.asarray(q_values))\r\n",
        "      y_pred = target_net(torch.tensor(x))\r\n",
        "      optimizer.zero_grad()\r\n",
        "      loss = criterion(y_pred, y)\r\n",
        "      loss.backward()\r\n",
        "      optimizer.step()\r\n",
        "      state = observation\r\n",
        "    epsilon*=epsilon_decay\r\n"
      ],
      "execution_count": 18,
      "outputs": [
        {
          "output_type": "stream",
          "text": [
            "  0%|          | 0/25000 [00:00<?, ?it/s]/usr/local/lib/python3.6/dist-packages/ipykernel_launcher.py:23: UserWarning: To copy construct from a tensor, it is recommended to use sourceTensor.clone().detach() or sourceTensor.clone().detach().requires_grad_(True), rather than torch.tensor(sourceTensor).\n",
            "  0%|          | 7/25000 [00:03<2:37:25,  2.65it/s]/usr/local/lib/python3.6/dist-packages/ipykernel_launcher.py:23: UserWarning: To copy construct from a tensor, it is recommended to use sourceTensor.clone().detach() or sourceTensor.clone().detach().requires_grad_(True), rather than torch.tensor(sourceTensor).\n",
            "  0%|          | 26/25000 [00:07<1:12:02,  5.78it/s]/usr/local/lib/python3.6/dist-packages/ipykernel_launcher.py:23: UserWarning: To copy construct from a tensor, it is recommended to use sourceTensor.clone().detach() or sourceTensor.clone().detach().requires_grad_(True), rather than torch.tensor(sourceTensor).\n",
            "  0%|          | 63/25000 [00:14<1:09:43,  5.96it/s]/usr/local/lib/python3.6/dist-packages/ipykernel_launcher.py:23: UserWarning: To copy construct from a tensor, it is recommended to use sourceTensor.clone().detach() or sourceTensor.clone().detach().requires_grad_(True), rather than torch.tensor(sourceTensor).\n",
            "  0%|          | 124/25000 [00:25<1:06:49,  6.20it/s]/usr/local/lib/python3.6/dist-packages/ipykernel_launcher.py:23: UserWarning: To copy construct from a tensor, it is recommended to use sourceTensor.clone().detach() or sourceTensor.clone().detach().requires_grad_(True), rather than torch.tensor(sourceTensor).\n",
            "  1%|          | 215/25000 [00:40<1:05:50,  6.27it/s]/usr/local/lib/python3.6/dist-packages/ipykernel_launcher.py:23: UserWarning: To copy construct from a tensor, it is recommended to use sourceTensor.clone().detach() or sourceTensor.clone().detach().requires_grad_(True), rather than torch.tensor(sourceTensor).\n",
            "  1%|▏         | 342/25000 [01:00<1:00:06,  6.84it/s]/usr/local/lib/python3.6/dist-packages/ipykernel_launcher.py:23: UserWarning: To copy construct from a tensor, it is recommended to use sourceTensor.clone().detach() or sourceTensor.clone().detach().requires_grad_(True), rather than torch.tensor(sourceTensor).\n",
            "  2%|▏         | 511/25000 [01:30<53:21,  7.65it/s]/usr/local/lib/python3.6/dist-packages/ipykernel_launcher.py:23: UserWarning: To copy construct from a tensor, it is recommended to use sourceTensor.clone().detach() or sourceTensor.clone().detach().requires_grad_(True), rather than torch.tensor(sourceTensor).\n",
            "  3%|▎         | 728/25000 [02:04<1:08:37,  5.89it/s]/usr/local/lib/python3.6/dist-packages/ipykernel_launcher.py:23: UserWarning: To copy construct from a tensor, it is recommended to use sourceTensor.clone().detach() or sourceTensor.clone().detach().requires_grad_(True), rather than torch.tensor(sourceTensor).\n",
            "  4%|▍         | 999/25000 [02:47<1:04:02,  6.25it/s]/usr/local/lib/python3.6/dist-packages/ipykernel_launcher.py:23: UserWarning: To copy construct from a tensor, it is recommended to use sourceTensor.clone().detach() or sourceTensor.clone().detach().requires_grad_(True), rather than torch.tensor(sourceTensor).\n",
            "  8%|▊         | 1999/25000 [05:14<1:07:26,  5.68it/s]/usr/local/lib/python3.6/dist-packages/ipykernel_launcher.py:23: UserWarning: To copy construct from a tensor, it is recommended to use sourceTensor.clone().detach() or sourceTensor.clone().detach().requires_grad_(True), rather than torch.tensor(sourceTensor).\n",
            " 12%|█▏        | 2999/25000 [07:41<1:00:12,  6.09it/s]/usr/local/lib/python3.6/dist-packages/ipykernel_launcher.py:23: UserWarning: To copy construct from a tensor, it is recommended to use sourceTensor.clone().detach() or sourceTensor.clone().detach().requires_grad_(True), rather than torch.tensor(sourceTensor).\n",
            " 16%|█▌        | 3999/25000 [09:58<42:08,  8.30it/s]/usr/local/lib/python3.6/dist-packages/ipykernel_launcher.py:23: UserWarning: To copy construct from a tensor, it is recommended to use sourceTensor.clone().detach() or sourceTensor.clone().detach().requires_grad_(True), rather than torch.tensor(sourceTensor).\n",
            " 20%|█▉        | 4999/25000 [12:18<54:38,  6.10it/s]/usr/local/lib/python3.6/dist-packages/ipykernel_launcher.py:23: UserWarning: To copy construct from a tensor, it is recommended to use sourceTensor.clone().detach() or sourceTensor.clone().detach().requires_grad_(True), rather than torch.tensor(sourceTensor).\n",
            " 24%|██▍       | 5999/25000 [14:32<45:55,  6.90it/s]/usr/local/lib/python3.6/dist-packages/ipykernel_launcher.py:23: UserWarning: To copy construct from a tensor, it is recommended to use sourceTensor.clone().detach() or sourceTensor.clone().detach().requires_grad_(True), rather than torch.tensor(sourceTensor).\n",
            " 28%|██▊       | 6999/25000 [16:46<38:14,  7.84it/s]/usr/local/lib/python3.6/dist-packages/ipykernel_launcher.py:23: UserWarning: To copy construct from a tensor, it is recommended to use sourceTensor.clone().detach() or sourceTensor.clone().detach().requires_grad_(True), rather than torch.tensor(sourceTensor).\n",
            " 32%|███▏      | 7999/25000 [18:57<36:50,  7.69it/s]/usr/local/lib/python3.6/dist-packages/ipykernel_launcher.py:23: UserWarning: To copy construct from a tensor, it is recommended to use sourceTensor.clone().detach() or sourceTensor.clone().detach().requires_grad_(True), rather than torch.tensor(sourceTensor).\n",
            " 36%|███▌      | 8999/25000 [21:11<37:57,  7.03it/s]/usr/local/lib/python3.6/dist-packages/ipykernel_launcher.py:23: UserWarning: To copy construct from a tensor, it is recommended to use sourceTensor.clone().detach() or sourceTensor.clone().detach().requires_grad_(True), rather than torch.tensor(sourceTensor).\n",
            " 40%|███▉      | 9999/25000 [23:19<34:08,  7.32it/s]/usr/local/lib/python3.6/dist-packages/ipykernel_launcher.py:23: UserWarning: To copy construct from a tensor, it is recommended to use sourceTensor.clone().detach() or sourceTensor.clone().detach().requires_grad_(True), rather than torch.tensor(sourceTensor).\n",
            " 44%|████▍     | 10999/25000 [25:26<29:18,  7.96it/s]/usr/local/lib/python3.6/dist-packages/ipykernel_launcher.py:23: UserWarning: To copy construct from a tensor, it is recommended to use sourceTensor.clone().detach() or sourceTensor.clone().detach().requires_grad_(True), rather than torch.tensor(sourceTensor).\n",
            " 48%|████▊     | 11999/25000 [27:31<27:19,  7.93it/s]/usr/local/lib/python3.6/dist-packages/ipykernel_launcher.py:23: UserWarning: To copy construct from a tensor, it is recommended to use sourceTensor.clone().detach() or sourceTensor.clone().detach().requires_grad_(True), rather than torch.tensor(sourceTensor).\n",
            " 52%|█████▏    | 12999/25000 [29:34<27:16,  7.33it/s]/usr/local/lib/python3.6/dist-packages/ipykernel_launcher.py:23: UserWarning: To copy construct from a tensor, it is recommended to use sourceTensor.clone().detach() or sourceTensor.clone().detach().requires_grad_(True), rather than torch.tensor(sourceTensor).\n",
            " 56%|█████▌    | 13998/25000 [31:37<24:40,  7.43it/s]/usr/local/lib/python3.6/dist-packages/ipykernel_launcher.py:23: UserWarning: To copy construct from a tensor, it is recommended to use sourceTensor.clone().detach() or sourceTensor.clone().detach().requires_grad_(True), rather than torch.tensor(sourceTensor).\n",
            " 60%|█████▉    | 14999/25000 [33:39<19:42,  8.46it/s]/usr/local/lib/python3.6/dist-packages/ipykernel_launcher.py:23: UserWarning: To copy construct from a tensor, it is recommended to use sourceTensor.clone().detach() or sourceTensor.clone().detach().requires_grad_(True), rather than torch.tensor(sourceTensor).\n",
            " 64%|██████▍   | 15998/25000 [35:38<15:09,  9.89it/s]/usr/local/lib/python3.6/dist-packages/ipykernel_launcher.py:23: UserWarning: To copy construct from a tensor, it is recommended to use sourceTensor.clone().detach() or sourceTensor.clone().detach().requires_grad_(True), rather than torch.tensor(sourceTensor).\n",
            " 68%|██████▊   | 16999/25000 [37:39<16:02,  8.31it/s]/usr/local/lib/python3.6/dist-packages/ipykernel_launcher.py:23: UserWarning: To copy construct from a tensor, it is recommended to use sourceTensor.clone().detach() or sourceTensor.clone().detach().requires_grad_(True), rather than torch.tensor(sourceTensor).\n",
            " 72%|███████▏  | 17999/25000 [39:36<14:30,  8.05it/s]/usr/local/lib/python3.6/dist-packages/ipykernel_launcher.py:23: UserWarning: To copy construct from a tensor, it is recommended to use sourceTensor.clone().detach() or sourceTensor.clone().detach().requires_grad_(True), rather than torch.tensor(sourceTensor).\n",
            " 76%|███████▌  | 18999/25000 [41:33<13:10,  7.60it/s]/usr/local/lib/python3.6/dist-packages/ipykernel_launcher.py:23: UserWarning: To copy construct from a tensor, it is recommended to use sourceTensor.clone().detach() or sourceTensor.clone().detach().requires_grad_(True), rather than torch.tensor(sourceTensor).\n",
            " 80%|███████▉  | 19999/25000 [43:29<11:03,  7.54it/s]/usr/local/lib/python3.6/dist-packages/ipykernel_launcher.py:23: UserWarning: To copy construct from a tensor, it is recommended to use sourceTensor.clone().detach() or sourceTensor.clone().detach().requires_grad_(True), rather than torch.tensor(sourceTensor).\n",
            " 84%|████████▍ | 20999/25000 [45:25<07:42,  8.64it/s]/usr/local/lib/python3.6/dist-packages/ipykernel_launcher.py:23: UserWarning: To copy construct from a tensor, it is recommended to use sourceTensor.clone().detach() or sourceTensor.clone().detach().requires_grad_(True), rather than torch.tensor(sourceTensor).\n",
            " 88%|████████▊ | 21998/25000 [47:21<05:55,  8.43it/s]/usr/local/lib/python3.6/dist-packages/ipykernel_launcher.py:23: UserWarning: To copy construct from a tensor, it is recommended to use sourceTensor.clone().detach() or sourceTensor.clone().detach().requires_grad_(True), rather than torch.tensor(sourceTensor).\n",
            " 92%|█████████▏| 22998/25000 [49:17<04:08,  8.06it/s]/usr/local/lib/python3.6/dist-packages/ipykernel_launcher.py:23: UserWarning: To copy construct from a tensor, it is recommended to use sourceTensor.clone().detach() or sourceTensor.clone().detach().requires_grad_(True), rather than torch.tensor(sourceTensor).\n",
            " 96%|█████████▌| 23998/25000 [51:15<02:00,  8.31it/s]/usr/local/lib/python3.6/dist-packages/ipykernel_launcher.py:23: UserWarning: To copy construct from a tensor, it is recommended to use sourceTensor.clone().detach() or sourceTensor.clone().detach().requires_grad_(True), rather than torch.tensor(sourceTensor).\n",
            "100%|█████████▉| 24998/25000 [53:11<00:00,  9.11it/s]/usr/local/lib/python3.6/dist-packages/ipykernel_launcher.py:23: UserWarning: To copy construct from a tensor, it is recommended to use sourceTensor.clone().detach() or sourceTensor.clone().detach().requires_grad_(True), rather than torch.tensor(sourceTensor).\n",
            "100%|██████████| 25000/25000 [53:12<00:00,  7.83it/s]\n"
          ],
          "name": "stderr"
        }
      ]
    },
    {
      "cell_type": "markdown",
      "metadata": {
        "id": "1-haYSzNjJpb"
      },
      "source": [
        "# Viewing the Final Result"
      ]
    },
    {
      "cell_type": "code",
      "metadata": {
        "id": "8Ji3kCR2scqO"
      },
      "source": [
        "def plot_durations():\r\n",
        "    plt.figure(2)\r\n",
        "    plt.clf()\r\n",
        "    durations_t = torch.tensor(episode_durations, dtype=torch.float)\r\n",
        "    plt.title('Training...')\r\n",
        "    plt.xlabel('Episode')\r\n",
        "    plt.ylabel('Duration')\r\n",
        "    plt.plot(durations_t.numpy())\r\n",
        "\r\n",
        "    if len(durations_t) >= 100:\r\n",
        "        means = durations_t.unfold(0, 100, 1).mean(1).view(-1)\r\n",
        "        means = torch.cat((torch.zeros(99), means))\r\n",
        "        plt.plot(means.numpy())\r\n",
        "\r\n",
        "    plt.pause(0.001) \r\n",
        "    if is_ipython:\r\n",
        "        display.clear_output(wait=True)\r\n",
        "        display.display(plt.gcf())"
      ],
      "execution_count": 19,
      "outputs": []
    },
    {
      "cell_type": "code",
      "metadata": {
        "colab": {
          "base_uri": "https://localhost:8080/",
          "height": 421
        },
        "id": "azhFqLRmC8UG",
        "outputId": "787ef120-0aa7-4d42-9f46-4c3c7d3e16a7"
      },
      "source": [
        "observation = env.reset()\r\n",
        "\r\n",
        "while True:\r\n",
        "  \r\n",
        "    env.render()\r\n",
        "    \r\n",
        "    action = env.action_space.sample() \r\n",
        "         \r\n",
        "    observation, reward, done, info = env.step(action) \r\n",
        "   \r\n",
        "        \r\n",
        "    if done: \r\n",
        "      break;\r\n",
        "            \r\n",
        "env.close()\r\n",
        "show_video()"
      ],
      "execution_count": 20,
      "outputs": [
        {
          "output_type": "display_data",
          "data": {
            "text/html": [
              "<video alt=\"test\" autoplay \n",
              "                loop controls style=\"height: 400px;\">\n",
              "                <source src=\"data:video/mp4;base64,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\" type=\"video/mp4\" />\n",
              "             </video>"
            ],
            "text/plain": [
              "<IPython.core.display.HTML object>"
            ]
          },
          "metadata": {
            "tags": []
          }
        }
      ]
    },
    {
      "cell_type": "code",
      "metadata": {
        "id": "DVxnrSwAEL6g"
      },
      "source": [
        ""
      ],
      "execution_count": null,
      "outputs": []
    }
  ]
}
